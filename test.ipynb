{
 "cells": [
  {
   "cell_type": "code",
   "execution_count": 3,
   "metadata": {},
   "outputs": [],
   "source": [
    "import pickle\n",
    "\n",
    "import pandas as pd"
   ]
  },
  {
   "cell_type": "code",
   "execution_count": 4,
   "metadata": {},
   "outputs": [],
   "source": [
    "# with open('tmp_results/youtube_u2i_dict.pkl', 'rb') as f:\n",
    "#     youtube_u2i_dict = pickle.load(f)\n",
    "    \n",
    "# youtube_u2i_dict"
   ]
  },
  {
   "cell_type": "code",
   "execution_count": 5,
   "metadata": {},
   "outputs": [
    {
     "data": {
      "text/html": [
       "<div>\n",
       "<style scoped>\n",
       "    .dataframe tbody tr th:only-of-type {\n",
       "        vertical-align: middle;\n",
       "    }\n",
       "\n",
       "    .dataframe tbody tr th {\n",
       "        vertical-align: top;\n",
       "    }\n",
       "\n",
       "    .dataframe thead th {\n",
       "        text-align: right;\n",
       "    }\n",
       "</style>\n",
       "<table border=\"1\" class=\"dataframe\">\n",
       "  <thead>\n",
       "    <tr style=\"text-align: right;\">\n",
       "      <th></th>\n",
       "      <th>user_id</th>\n",
       "      <th>click_article_id</th>\n",
       "      <th>sim0</th>\n",
       "      <th>time_diff0</th>\n",
       "      <th>word_diff0</th>\n",
       "      <th>sim_max</th>\n",
       "      <th>sim_min</th>\n",
       "      <th>sim_sum</th>\n",
       "      <th>sim_mean</th>\n",
       "      <th>score</th>\n",
       "      <th>...</th>\n",
       "      <th>click_country</th>\n",
       "      <th>click_region</th>\n",
       "      <th>click_referrer_type</th>\n",
       "      <th>user_time_hob1</th>\n",
       "      <th>user_time_hob2</th>\n",
       "      <th>words_hbo</th>\n",
       "      <th>category_id</th>\n",
       "      <th>created_at_ts</th>\n",
       "      <th>words_count</th>\n",
       "      <th>is_cat_hab</th>\n",
       "    </tr>\n",
       "  </thead>\n",
       "  <tbody>\n",
       "    <tr>\n",
       "      <th>0</th>\n",
       "      <td>0</td>\n",
       "      <td>3244.0</td>\n",
       "      <td>0.163423</td>\n",
       "      <td>34968000</td>\n",
       "      <td>9</td>\n",
       "      <td>0.163423</td>\n",
       "      <td>0.163423</td>\n",
       "      <td>0.163423</td>\n",
       "      <td>0.163423</td>\n",
       "      <td>1.288687</td>\n",
       "      <td>...</td>\n",
       "      <td>1</td>\n",
       "      <td>25</td>\n",
       "      <td>2</td>\n",
       "      <td>0.343715</td>\n",
       "      <td>0.992865</td>\n",
       "      <td>266.000000</td>\n",
       "      <td>1</td>\n",
       "      <td>1508220059000</td>\n",
       "      <td>153</td>\n",
       "      <td>0</td>\n",
       "    </tr>\n",
       "    <tr>\n",
       "      <th>1</th>\n",
       "      <td>2676</td>\n",
       "      <td>3244.0</td>\n",
       "      <td>0.135988</td>\n",
       "      <td>42181000</td>\n",
       "      <td>16</td>\n",
       "      <td>0.135988</td>\n",
       "      <td>0.135988</td>\n",
       "      <td>0.135988</td>\n",
       "      <td>0.135988</td>\n",
       "      <td>1.664680</td>\n",
       "      <td>...</td>\n",
       "      <td>1</td>\n",
       "      <td>21</td>\n",
       "      <td>2</td>\n",
       "      <td>0.362774</td>\n",
       "      <td>0.992925</td>\n",
       "      <td>146.750000</td>\n",
       "      <td>1</td>\n",
       "      <td>1508220059000</td>\n",
       "      <td>153</td>\n",
       "      <td>0</td>\n",
       "    </tr>\n",
       "    <tr>\n",
       "      <th>2</th>\n",
       "      <td>43563</td>\n",
       "      <td>3244.0</td>\n",
       "      <td>0.182044</td>\n",
       "      <td>33242000</td>\n",
       "      <td>91</td>\n",
       "      <td>0.182044</td>\n",
       "      <td>0.182044</td>\n",
       "      <td>0.182044</td>\n",
       "      <td>0.182044</td>\n",
       "      <td>1.572872</td>\n",
       "      <td>...</td>\n",
       "      <td>1</td>\n",
       "      <td>21</td>\n",
       "      <td>2</td>\n",
       "      <td>0.317150</td>\n",
       "      <td>0.992456</td>\n",
       "      <td>219.153846</td>\n",
       "      <td>1</td>\n",
       "      <td>1508220059000</td>\n",
       "      <td>153</td>\n",
       "      <td>0</td>\n",
       "    </tr>\n",
       "    <tr>\n",
       "      <th>3</th>\n",
       "      <td>141116</td>\n",
       "      <td>3244.0</td>\n",
       "      <td>1.000000</td>\n",
       "      <td>0</td>\n",
       "      <td>0</td>\n",
       "      <td>1.000000</td>\n",
       "      <td>1.000000</td>\n",
       "      <td>1.000000</td>\n",
       "      <td>1.000000</td>\n",
       "      <td>2.097969</td>\n",
       "      <td>...</td>\n",
       "      <td>1</td>\n",
       "      <td>25</td>\n",
       "      <td>2</td>\n",
       "      <td>0.231183</td>\n",
       "      <td>0.991603</td>\n",
       "      <td>223.285714</td>\n",
       "      <td>1</td>\n",
       "      <td>1508220059000</td>\n",
       "      <td>153</td>\n",
       "      <td>0</td>\n",
       "    </tr>\n",
       "    <tr>\n",
       "      <th>4</th>\n",
       "      <td>192885</td>\n",
       "      <td>3244.0</td>\n",
       "      <td>0.130207</td>\n",
       "      <td>550340000</td>\n",
       "      <td>48</td>\n",
       "      <td>0.130207</td>\n",
       "      <td>0.130207</td>\n",
       "      <td>0.130207</td>\n",
       "      <td>0.130207</td>\n",
       "      <td>1.288687</td>\n",
       "      <td>...</td>\n",
       "      <td>1</td>\n",
       "      <td>25</td>\n",
       "      <td>1</td>\n",
       "      <td>0.161756</td>\n",
       "      <td>0.990801</td>\n",
       "      <td>221.300000</td>\n",
       "      <td>1</td>\n",
       "      <td>1508220059000</td>\n",
       "      <td>153</td>\n",
       "      <td>0</td>\n",
       "    </tr>\n",
       "  </tbody>\n",
       "</table>\n",
       "<p>5 rows × 28 columns</p>\n",
       "</div>"
      ],
      "text/plain": [
       "   user_id  click_article_id      sim0  time_diff0  word_diff0   sim_max  \\\n",
       "0        0            3244.0  0.163423    34968000           9  0.163423   \n",
       "1     2676            3244.0  0.135988    42181000          16  0.135988   \n",
       "2    43563            3244.0  0.182044    33242000          91  0.182044   \n",
       "3   141116            3244.0  1.000000           0           0  1.000000   \n",
       "4   192885            3244.0  0.130207   550340000          48  0.130207   \n",
       "\n",
       "    sim_min   sim_sum  sim_mean     score     ...      click_country  \\\n",
       "0  0.163423  0.163423  0.163423  1.288687     ...                  1   \n",
       "1  0.135988  0.135988  0.135988  1.664680     ...                  1   \n",
       "2  0.182044  0.182044  0.182044  1.572872     ...                  1   \n",
       "3  1.000000  1.000000  1.000000  2.097969     ...                  1   \n",
       "4  0.130207  0.130207  0.130207  1.288687     ...                  1   \n",
       "\n",
       "   click_region  click_referrer_type  user_time_hob1  user_time_hob2  \\\n",
       "0            25                    2        0.343715        0.992865   \n",
       "1            21                    2        0.362774        0.992925   \n",
       "2            21                    2        0.317150        0.992456   \n",
       "3            25                    2        0.231183        0.991603   \n",
       "4            25                    1        0.161756        0.990801   \n",
       "\n",
       "    words_hbo  category_id  created_at_ts  words_count  is_cat_hab  \n",
       "0  266.000000            1  1508220059000          153           0  \n",
       "1  146.750000            1  1508220059000          153           0  \n",
       "2  219.153846            1  1508220059000          153           0  \n",
       "3  223.285714            1  1508220059000          153           0  \n",
       "4  221.300000            1  1508220059000          153           0  \n",
       "\n",
       "[5 rows x 28 columns]"
      ]
     },
     "execution_count": 5,
     "metadata": {},
     "output_type": "execute_result"
    }
   ],
   "source": [
    "trn_user_item_feats_df = pd.read_csv('tmp_results/' + 'trn_user_item_feats_df.csv')\n",
    "\n",
    "trn_user_item_feats_df.head()"
   ]
  },
  {
   "cell_type": "code",
   "execution_count": 6,
   "metadata": {},
   "outputs": [
    {
     "data": {
      "text/plain": [
       "Index(['user_id', 'click_article_id', 'sim0', 'time_diff0', 'word_diff0',\n",
       "       'sim_max', 'sim_min', 'sim_sum', 'sim_mean', 'score', 'rank', 'label',\n",
       "       'click_size', 'time_diff_mean', 'active_level', 'click_environment',\n",
       "       'click_deviceGroup', 'click_os', 'click_country', 'click_region',\n",
       "       'click_referrer_type', 'user_time_hob1', 'user_time_hob2', 'words_hbo',\n",
       "       'category_id', 'created_at_ts', 'words_count', 'is_cat_hab'],\n",
       "      dtype='object')"
      ]
     },
     "execution_count": 6,
     "metadata": {},
     "output_type": "execute_result"
    }
   ],
   "source": [
    "trn_user_item_feats_df.columns"
   ]
  },
  {
   "cell_type": "code",
   "execution_count": 12,
   "metadata": {},
   "outputs": [
    {
     "name": "stdout",
     "output_type": "stream",
     "text": [
      "user_id\n",
      "200000\n",
      "\n",
      "click_article_id\n",
      "31408\n",
      "\n",
      "category_id\n",
      "287\n",
      "\n",
      "click_environment\n",
      "3\n",
      "\n",
      "click_deviceGroup\n",
      "4\n",
      "\n",
      "click_os\n",
      "8\n",
      "\n",
      "click_country\n",
      "11\n",
      "\n",
      "click_region\n",
      "28\n",
      "\n",
      "click_referrer_type\n",
      "7\n",
      "\n",
      "is_cat_hab\n",
      "1\n",
      "\n"
     ]
    }
   ],
   "source": [
    "sparse_fea = ['user_id', 'click_article_id', 'category_id', 'click_environment', 'click_deviceGroup', \n",
    "              'click_os', 'click_country', 'click_region', 'click_referrer_type', 'is_cat_hab']\n",
    "\n",
    "for item in sparse_fea:\n",
    "    print(item)\n",
    "    print(len(trn_user_item_feats_df[item].value_counts()))\n",
    "    print()"
   ]
  },
  {
   "cell_type": "code",
   "execution_count": 16,
   "metadata": {},
   "outputs": [
    {
     "data": {
      "text/plain": [
       "count    291070.000000\n",
       "mean     194944.580390\n",
       "std       96385.144016\n",
       "min           3.000000\n",
       "25%      123289.000000\n",
       "50%      202652.000000\n",
       "75%      283576.250000\n",
       "max      364046.000000\n",
       "Name: click_article_id, dtype: float64"
      ]
     },
     "execution_count": 16,
     "metadata": {},
     "output_type": "execute_result"
    }
   ],
   "source": [
    "trn_user_item_feats_df['click_article_id'].describe()"
   ]
  },
  {
   "cell_type": "code",
   "execution_count": 11,
   "metadata": {},
   "outputs": [
    {
     "data": {
      "text/plain": [
       "31408"
      ]
     },
     "execution_count": 11,
     "metadata": {},
     "output_type": "execute_result"
    }
   ],
   "source": [
    "from sklearn.preprocessing import LabelEncoder\n",
    "\n",
    "lbe = LabelEncoder()\n",
    "r = lbe.fit_transform(trn_user_item_feats_df['click_article_id'].values)\n",
    "\n",
    "len(pd.Series(r).value_counts())"
   ]
  },
  {
   "cell_type": "code",
   "execution_count": null,
   "metadata": {},
   "outputs": [],
   "source": []
  }
 ],
 "metadata": {
  "kernelspec": {
   "display_name": "Python 3",
   "language": "python",
   "name": "python3"
  },
  "language_info": {
   "codemirror_mode": {
    "name": "ipython",
    "version": 3
   },
   "file_extension": ".py",
   "mimetype": "text/x-python",
   "name": "python",
   "nbconvert_exporter": "python",
   "pygments_lexer": "ipython3",
   "version": "3.6.12"
  }
 },
 "nbformat": 4,
 "nbformat_minor": 2
}
